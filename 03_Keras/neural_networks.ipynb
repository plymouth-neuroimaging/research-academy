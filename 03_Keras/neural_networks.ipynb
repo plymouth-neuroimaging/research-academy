{
 "cells": [
  {
   "cell_type": "markdown",
   "id": "c2d06f1b-66f8-42fb-abb5-ca24ea155941",
   "metadata": {},
   "source": [
    "# Neural networks\n",
    "\n",
    "*Megan Courtman <megan.courtman@plymouth.ac.uk>*\n",
    "\n",
    "[![Open In Colab](https://colab.research.google.com/assets/colab-badge.svg)](https://github.com/plymouth-neuroimaging/research-academy/blob/main/03_Keras/neural_networks.ipynb)\n",
    "\n",
    "In this notebook, we will look at using Python libraries to apply neural networks to a medical imaging problem. "
   ]
  },
  {
   "cell_type": "markdown",
   "id": "28b5665a-6ad8-4346-97f7-0f5ce375c17b",
   "metadata": {},
   "source": [
    "## Definitions\n",
    "\n",
    "### Artificial intelligence\n",
    "Artificial intelligence (AI) is a broad term, coined in 1955, which generally describes agents that receive information from the environment and perform actions.\n",
    "\n",
    "### Machine learning\n",
    "Machine learning is a subset of AI, and describes algorithms that improve themselves without explicit instruction through exposure to data. There are many types of machine learning, many of which require manual feature selection.\n",
    "\n",
    "### Deep learning\n",
    "Deep learning is a subset of machine learning, in which layered neural networks are used to build representations of complicated concepts out of simpler concepts. In neural networks, the data passes from node to node in a structure that loosely resembles neurons in the brain. A distinctive aspect of deep learning is that it does not require manual feature selection or engineering, and can learn more abstract representations.\n",
    "\n",
    "<div>\n",
    "<img src=\"neural_network.png\" width=\"400\" />\n",
    "</div>\n",
    "\n",
    "#### Convolutional neural networks\n",
    "A convolutional neural network (CNN) is a specific type of neural network that is used in image analysis. At each convolutional stage, a filter passes over the image to detect the presence of patterns. At the beginning of the network it picks up simple patterns (like straight lines, curves or corners). Later in the network these patterns will be combined to detect more complicated patterns. See image below for an example of CNN architecture, and the gif below for a visualisation of how the filter moves across the image.\n",
    "\n",
    "<div>\n",
    "<img src=\"cnn.png\" width=\"750\" />\n",
    "</div>\n",
    "\n",
    "<div>\n",
    "<img src=\"cnn.gif\" width=\"200\" />\n",
    "</div>"
   ]
  },
  {
   "cell_type": "markdown",
   "id": "1226f1c1-689e-4cdc-9c8b-c491beca03fa",
   "metadata": {},
   "source": [
    "## AI and deep learning in radiology\n",
    "Deep learning has been successfully applied to computer vision tasks such as object classification, localisation and detection. Many attempts have been made to translate these successes into radiological applications. There are now thousands of publications applying computer vision techniques to medical imaging.\n",
    "\n",
    "### Advantages\n",
    "The integration of AI into the radiological assessment workflow to provide radiologists with pre-screened images and identified features may have great benefits to offer, including enhanced efficiency and efficacy in diagnostics and the reduction of observational oversights and omissions. AI has the potential to detect patterns which are invisible to the human eye. It also has the potential to make healthcare more equitable, by being data-driven and (theoretically) not subject to human biases.\n",
    "\n",
    "### Disadvantages\n",
    "There have been many cases of AI being misused or poorly understood in healthcare research. An example which well illustrates many of the common pitfalls is the application of machine learning to detecting COVID-19 in chest radiographs and CT scans. Over 2000 papers were published on this subject between January and October 2020, but a [review](https://www.nature.com/articles/s42256-021-00307-0) found that **none** of the models in the 62 included studies were of  clinical use due to methodological flaws or underlying biases. It is very important that clinicians and computer scientists work together to foresee and mitigate such pitfalls. "
   ]
  },
  {
   "cell_type": "markdown",
   "id": "cb46f4ed-70c6-4053-bcdc-843a6c67077c",
   "metadata": {},
   "source": [
    "## Python libraries for deep learning\n",
    "\n",
    "In this notebook we will be using [Keras](https://keras.io/), a neural network library for Python. This sits on top of [TensorFlow](https://www.tensorflow.org/), a machine learning library developed by Google. These are open-source libraries, which means that the source code is freely available for use and modification.\n",
    "\n",
    "We will also be using other open-source Python libraries which will help us process and analyse the data. These include [Matplotlib](https://matplotlib.org/) for plotting images, [OpenCV](https://docs.opencv.org/4.x/) and [imutils](https://github.com/PyImageSearch/imutils) for image processing, [NumPy](https://numpy.org/) for working with arrays, [os](https://docs.python.org/3/library/os.html) for interacting with the operating system, and [Scikit-learn](https://scikit-learn.org/stable/index.html) for machine learning functionality."
   ]
  },
  {
   "cell_type": "markdown",
   "id": "a62d2c7a-58b8-4281-b999-4c4001e5bec2",
   "metadata": {},
   "source": [
    "## Example: brain tumour detection\n",
    "\n",
    "For a quick example of using deep learning in Python for medical imaging, we will look at detecting brain tumours in MRI scans. We will use [a publicly available dataset hosted on Kaggle](https://www.kaggle.com/datasets/navoneel/brain-mri-images-for-brain-tumor-detection).\n",
    "\n",
    "This is a **supervised** machine learning problem. That means that the data has been labelled (in this case as containing a tumour or not), and we are training a neural network to work out these labels for itself. (In an **unsupervised** machine learning application, the model is not given any labels and finds patterns such as clusters in the data.)"
   ]
  },
  {
   "cell_type": "code",
   "execution_count": 1,
   "id": "b126b715-2ed4-4e1b-9352-5cc063021eee",
   "metadata": {},
   "outputs": [
    {
     "name": "stdout",
     "output_type": "stream",
     "text": [
      "Defaulting to user installation because normal site-packages is not writeable\n",
      "Looking in indexes: https://pypi.org/simple, https://pypi.ngc.nvidia.com\n",
      "Requirement already satisfied: opencv-python in /home/megan/.local/lib/python3.10/site-packages (4.7.0.72)\n",
      "Requirement already satisfied: numpy>=1.21.2 in /home/megan/.local/lib/python3.10/site-packages (from opencv-python) (1.23.5)\n",
      "Defaulting to user installation because normal site-packages is not writeable\n",
      "Looking in indexes: https://pypi.org/simple, https://pypi.ngc.nvidia.com\n",
      "Requirement already satisfied: imutils in /home/megan/.local/lib/python3.10/site-packages (0.5.4)\n",
      "Defaulting to user installation because normal site-packages is not writeable\n",
      "Looking in indexes: https://pypi.org/simple, https://pypi.ngc.nvidia.com\n",
      "Requirement already satisfied: matplotlib in /usr/lib/python3/dist-packages (3.5.1)\n",
      "Defaulting to user installation because normal site-packages is not writeable\n",
      "Looking in indexes: https://pypi.org/simple, https://pypi.ngc.nvidia.com\n",
      "Requirement already satisfied: numpy in /home/megan/.local/lib/python3.10/site-packages (1.23.5)\n",
      "Defaulting to user installation because normal site-packages is not writeable\n",
      "Looking in indexes: https://pypi.org/simple, https://pypi.ngc.nvidia.com\n",
      "Requirement already satisfied: scikit-learn in /home/megan/.local/lib/python3.10/site-packages (1.2.2)\n",
      "Requirement already satisfied: scipy>=1.3.2 in /usr/lib/python3/dist-packages (from scikit-learn) (1.8.0)\n",
      "Requirement already satisfied: threadpoolctl>=2.0.0 in /home/megan/.local/lib/python3.10/site-packages (from scikit-learn) (3.1.0)\n",
      "Requirement already satisfied: numpy>=1.17.3 in /home/megan/.local/lib/python3.10/site-packages (from scikit-learn) (1.23.5)\n",
      "Requirement already satisfied: joblib>=1.1.1 in /home/megan/.local/lib/python3.10/site-packages (from scikit-learn) (1.2.0)\n",
      "Defaulting to user installation because normal site-packages is not writeable\n",
      "Looking in indexes: https://pypi.org/simple, https://pypi.ngc.nvidia.com\n",
      "Requirement already satisfied: tensorflow in /home/megan/.local/lib/python3.10/site-packages (2.12.0)\n",
      "Requirement already satisfied: libclang>=13.0.0 in /home/megan/.local/lib/python3.10/site-packages (from tensorflow) (16.0.0)\n",
      "Requirement already satisfied: jax>=0.3.15 in /home/megan/.local/lib/python3.10/site-packages (from tensorflow) (0.4.12)\n",
      "Requirement already satisfied: opt-einsum>=2.3.2 in /home/megan/.local/lib/python3.10/site-packages (from tensorflow) (3.3.0)\n",
      "Requirement already satisfied: flatbuffers>=2.0 in /home/megan/.local/lib/python3.10/site-packages (from tensorflow) (23.5.26)\n",
      "Requirement already satisfied: typing-extensions>=3.6.6 in /home/megan/.local/lib/python3.10/site-packages (from tensorflow) (4.6.3)\n",
      "Requirement already satisfied: numpy<1.24,>=1.22 in /home/megan/.local/lib/python3.10/site-packages (from tensorflow) (1.23.5)\n",
      "Requirement already satisfied: google-pasta>=0.1.1 in /home/megan/.local/lib/python3.10/site-packages (from tensorflow) (0.2.0)\n",
      "Requirement already satisfied: h5py>=2.9.0 in /home/megan/.local/lib/python3.10/site-packages (from tensorflow) (3.8.0)\n",
      "Requirement already satisfied: grpcio<2.0,>=1.24.3 in /home/megan/.local/lib/python3.10/site-packages (from tensorflow) (1.54.2)\n",
      "Requirement already satisfied: absl-py>=1.0.0 in /home/megan/.local/lib/python3.10/site-packages (from tensorflow) (1.4.0)\n",
      "Requirement already satisfied: packaging in /usr/lib/python3/dist-packages (from tensorflow) (21.3)\n",
      "Requirement already satisfied: gast<=0.4.0,>=0.2.1 in /home/megan/.local/lib/python3.10/site-packages (from tensorflow) (0.4.0)\n",
      "Requirement already satisfied: termcolor>=1.1.0 in /home/megan/.local/lib/python3.10/site-packages (from tensorflow) (2.3.0)\n",
      "Requirement already satisfied: wrapt<1.15,>=1.11.0 in /home/megan/.local/lib/python3.10/site-packages (from tensorflow) (1.14.1)\n",
      "Requirement already satisfied: tensorboard<2.13,>=2.12 in /home/megan/.local/lib/python3.10/site-packages (from tensorflow) (2.12.3)\n",
      "Requirement already satisfied: keras<2.13,>=2.12.0 in /home/megan/.local/lib/python3.10/site-packages (from tensorflow) (2.12.0)\n",
      "Requirement already satisfied: setuptools in /usr/lib/python3/dist-packages (from tensorflow) (59.6.0)\n",
      "Requirement already satisfied: six>=1.12.0 in /usr/lib/python3/dist-packages (from tensorflow) (1.16.0)\n",
      "Requirement already satisfied: protobuf!=4.21.0,!=4.21.1,!=4.21.2,!=4.21.3,!=4.21.4,!=4.21.5,<5.0.0dev,>=3.20.3 in /home/megan/.local/lib/python3.10/site-packages (from tensorflow) (4.23.3)\n",
      "Requirement already satisfied: tensorflow-estimator<2.13,>=2.12.0 in /home/megan/.local/lib/python3.10/site-packages (from tensorflow) (2.12.0)\n",
      "Requirement already satisfied: astunparse>=1.6.0 in /home/megan/.local/lib/python3.10/site-packages (from tensorflow) (1.6.3)\n",
      "Requirement already satisfied: tensorflow-io-gcs-filesystem>=0.23.1 in /home/megan/.local/lib/python3.10/site-packages (from tensorflow) (0.32.0)\n",
      "Requirement already satisfied: wheel<1.0,>=0.23.0 in /usr/lib/python3/dist-packages (from astunparse>=1.6.0->tensorflow) (0.37.1)\n",
      "Requirement already satisfied: scipy>=1.7 in /usr/lib/python3/dist-packages (from jax>=0.3.15->tensorflow) (1.8.0)\n",
      "Requirement already satisfied: ml-dtypes>=0.1.0 in /home/megan/.local/lib/python3.10/site-packages (from jax>=0.3.15->tensorflow) (0.2.0)\n",
      "Requirement already satisfied: requests<3,>=2.21.0 in /home/megan/.local/lib/python3.10/site-packages (from tensorboard<2.13,>=2.12->tensorflow) (2.28.1)\n",
      "Requirement already satisfied: markdown>=2.6.8 in /home/megan/.local/lib/python3.10/site-packages (from tensorboard<2.13,>=2.12->tensorflow) (3.4.3)\n",
      "Requirement already satisfied: werkzeug>=1.0.1 in /home/megan/.local/lib/python3.10/site-packages (from tensorboard<2.13,>=2.12->tensorflow) (2.3.6)\n",
      "Requirement already satisfied: google-auth-oauthlib<1.1,>=0.5 in /home/megan/.local/lib/python3.10/site-packages (from tensorboard<2.13,>=2.12->tensorflow) (1.0.0)\n",
      "Requirement already satisfied: tensorboard-data-server<0.8.0,>=0.7.0 in /home/megan/.local/lib/python3.10/site-packages (from tensorboard<2.13,>=2.12->tensorflow) (0.7.1)\n",
      "Requirement already satisfied: google-auth<3,>=1.6.3 in /home/megan/.local/lib/python3.10/site-packages (from tensorboard<2.13,>=2.12->tensorflow) (2.20.0)\n",
      "Requirement already satisfied: urllib3<2.0 in /usr/lib/python3/dist-packages (from google-auth<3,>=1.6.3->tensorboard<2.13,>=2.12->tensorflow) (1.26.5)\n",
      "Requirement already satisfied: rsa<5,>=3.1.4 in /home/megan/.local/lib/python3.10/site-packages (from google-auth<3,>=1.6.3->tensorboard<2.13,>=2.12->tensorflow) (4.9)\n",
      "Requirement already satisfied: cachetools<6.0,>=2.0.0 in /home/megan/.local/lib/python3.10/site-packages (from google-auth<3,>=1.6.3->tensorboard<2.13,>=2.12->tensorflow) (5.3.1)\n",
      "Requirement already satisfied: pyasn1-modules>=0.2.1 in /home/megan/.local/lib/python3.10/site-packages (from google-auth<3,>=1.6.3->tensorboard<2.13,>=2.12->tensorflow) (0.3.0)\n",
      "Requirement already satisfied: requests-oauthlib>=0.7.0 in /home/megan/.local/lib/python3.10/site-packages (from google-auth-oauthlib<1.1,>=0.5->tensorboard<2.13,>=2.12->tensorflow) (1.3.1)\n",
      "Requirement already satisfied: certifi>=2017.4.17 in /home/megan/.local/lib/python3.10/site-packages (from requests<3,>=2.21.0->tensorboard<2.13,>=2.12->tensorflow) (2022.9.24)\n",
      "Requirement already satisfied: idna<4,>=2.5 in /home/megan/.local/lib/python3.10/site-packages (from requests<3,>=2.21.0->tensorboard<2.13,>=2.12->tensorflow) (3.4)\n",
      "Requirement already satisfied: charset-normalizer<3,>=2 in /home/megan/.local/lib/python3.10/site-packages (from requests<3,>=2.21.0->tensorboard<2.13,>=2.12->tensorflow) (2.1.1)\n",
      "Requirement already satisfied: MarkupSafe>=2.1.1 in /home/megan/.local/lib/python3.10/site-packages (from werkzeug>=1.0.1->tensorboard<2.13,>=2.12->tensorflow) (2.1.3)\n",
      "Requirement already satisfied: pyasn1<0.6.0,>=0.4.6 in /home/megan/.local/lib/python3.10/site-packages (from pyasn1-modules>=0.2.1->google-auth<3,>=1.6.3->tensorboard<2.13,>=2.12->tensorflow) (0.5.0)\n",
      "Requirement already satisfied: oauthlib>=3.0.0 in /usr/lib/python3/dist-packages (from requests-oauthlib>=0.7.0->google-auth-oauthlib<1.1,>=0.5->tensorboard<2.13,>=2.12->tensorflow) (3.2.0)\n"
     ]
    }
   ],
   "source": [
    "# Install libraries onto machine\n",
    "!python3 -m pip install opencv-python\n",
    "!python3 -m pip install imutils\n",
    "!python3 -m pip install matplotlib\n",
    "!python3 -m pip install numpy\n",
    "!python3 -m pip install scikit-learn\n",
    "!python3 -m pip install tensorflow"
   ]
  },
  {
   "cell_type": "code",
   "execution_count": 2,
   "id": "0c0e1e34-0ea9-49b3-92da-fd0e0bae3f6e",
   "metadata": {},
   "outputs": [
    {
     "name": "stderr",
     "output_type": "stream",
     "text": [
      "2023-07-21 10:47:36.046356: I tensorflow/tsl/cuda/cudart_stub.cc:28] Could not find cuda drivers on your machine, GPU will not be used.\n",
      "2023-07-21 10:47:36.200196: I tensorflow/tsl/cuda/cudart_stub.cc:28] Could not find cuda drivers on your machine, GPU will not be used.\n",
      "2023-07-21 10:47:36.201176: I tensorflow/core/platform/cpu_feature_guard.cc:182] This TensorFlow binary is optimized to use available CPU instructions in performance-critical operations.\n",
      "To enable the following instructions: AVX2 FMA, in other operations, rebuild TensorFlow with the appropriate compiler flags.\n",
      "2023-07-21 10:47:36.823323: W tensorflow/compiler/tf2tensorrt/utils/py_utils.cc:38] TF-TRT Warning: Could not find TensorRT\n"
     ]
    }
   ],
   "source": [
    "# Import libraries\n",
    "import os\n",
    "\n",
    "import cv2\n",
    "import imutils\n",
    "import matplotlib.pyplot as plt\n",
    "import numpy as np\n",
    "from sklearn.model_selection import train_test_split\n",
    "import tensorflow as tf\n",
    "from tensorflow.keras.models import Sequential\n",
    "from tensorflow.keras.layers import Conv2D, MaxPooling2D\n",
    "from tensorflow.keras.layers import Activation, Dropout, Flatten, Dense"
   ]
  },
  {
   "cell_type": "code",
   "execution_count": 3,
   "id": "b9a44c64-81d3-4544-ad54-dce188a95ebb",
   "metadata": {},
   "outputs": [],
   "source": [
    "# If you have not yet downloaded the data then set to \"True\"\n",
    "download_data = False\n",
    "\n",
    "if download_data:\n",
    "    !wget https://github.com/plymouth-neuroimaging/research-academy/raw/main/03_Keras/data.zip\n",
    "    !mkdir data\n",
    "    !unzip data.zip -d data"
   ]
  },
  {
   "cell_type": "markdown",
   "id": "2c68c734-ca73-4832-b6a8-7ed995fb552d",
   "metadata": {},
   "source": [
    "### Load images\n",
    "\n",
    "The images are in the folder `data` - in the subfolder `yes` if there is a tumour present and in `no` if a tumour is not present. \n",
    "\n",
    "When we prepare data for a supervised machine learning problem in Python, we typically create an array called `X` which contains the input data (in this case, images) and an array called `y` for the output labels that the model will be predicting."
   ]
  },
  {
   "cell_type": "code",
   "execution_count": 4,
   "id": "dd76dd63-31b9-425d-8238-f1da97165afd",
   "metadata": {},
   "outputs": [
    {
     "name": "stdout",
     "output_type": "stream",
     "text": [
      "253 images loaded.\n"
     ]
    }
   ],
   "source": [
    "labels = [\"yes\", \"no\"]\n",
    "X = []\n",
    "y = []\n",
    "\n",
    "# Loop through both labels\n",
    "for label in labels:\n",
    "    path = \"./data/\" + label\n",
    "    # Loop through all the files in the subfolder\n",
    "    for file in os.listdir(path):\n",
    "        if not file.startswith(\".\"):\n",
    "            # Read the image\n",
    "            img = cv2.imread(path + \"/\" + file, 0)\n",
    "            # Add the image to the images array\n",
    "            X.append(img)\n",
    "            # Add the label to the labels array\n",
    "            y.append(label)\n",
    "                    \n",
    "print(f'{len(X)} images loaded.')"
   ]
  },
  {
   "cell_type": "markdown",
   "id": "d5f5f05b-d501-4b89-8712-fc436d8752f5",
   "metadata": {},
   "source": [
    "### Crop images\n",
    "\n",
    "Here we will crop the images to the head. We will define a function to do this: don't worry about understanding the details of this."
   ]
  },
  {
   "cell_type": "code",
   "execution_count": 5,
   "id": "c110efcb-cd7b-48d1-bc5b-184077db00d4",
   "metadata": {},
   "outputs": [],
   "source": [
    "def crop_imgs(set_name, add_pixels_value=0):\n",
    "    \"\"\"\n",
    "    Finds the extreme points on the image and crops the rectangular out of them\n",
    "    \"\"\"\n",
    "    set_new = []\n",
    "    for img in set_name:\n",
    "        gray = cv2.GaussianBlur(img, (5, 5), 0)\n",
    "\n",
    "        # threshold the image, then perform a series of erosions +\n",
    "        # dilations to remove any small regions of noise\n",
    "        thresh = cv2.threshold(gray, 45, 255, cv2.THRESH_BINARY)[1]\n",
    "        thresh = cv2.erode(thresh, None, iterations=2)\n",
    "        thresh = cv2.dilate(thresh, None, iterations=2)\n",
    "\n",
    "        # find contours in thresholded image, then grab the largest one\n",
    "        cnts = cv2.findContours(thresh.copy(), cv2.RETR_EXTERNAL, cv2.CHAIN_APPROX_SIMPLE)\n",
    "        cnts = imutils.grab_contours(cnts)\n",
    "        c = max(cnts, key=cv2.contourArea)\n",
    "\n",
    "        # find the extreme points\n",
    "        extLeft = tuple(c[c[:, :, 0].argmin()][0])\n",
    "        extRight = tuple(c[c[:, :, 0].argmax()][0])\n",
    "        extTop = tuple(c[c[:, :, 1].argmin()][0])\n",
    "        extBot = tuple(c[c[:, :, 1].argmax()][0])\n",
    "\n",
    "        ADD_PIXELS = add_pixels_value\n",
    "        new_img = img[extTop[1]-ADD_PIXELS:extBot[1]+ADD_PIXELS, extLeft[0]-ADD_PIXELS:extRight[0]+ADD_PIXELS].copy()\n",
    "        set_new.append(new_img)\n",
    "\n",
    "    return set_new"
   ]
  },
  {
   "cell_type": "code",
   "execution_count": 6,
   "id": "3afc9d30-1ba3-427a-abe1-3e5cc680db90",
   "metadata": {},
   "outputs": [],
   "source": [
    "X = crop_imgs(X)"
   ]
  },
  {
   "cell_type": "markdown",
   "id": "6da22194-587b-4dca-8257-76ff6601946a",
   "metadata": {},
   "source": [
    "### Resize images\n",
    "\n",
    "We need to resize the images so that they are all the same size. This is required by the model."
   ]
  },
  {
   "cell_type": "code",
   "execution_count": 7,
   "id": "9a00d4ae-1036-40fa-aeab-59423c4245bb",
   "metadata": {},
   "outputs": [],
   "source": [
    "IMG_SIZE = (224, 224)"
   ]
  },
  {
   "cell_type": "code",
   "execution_count": 8,
   "id": "04fe2f08-d73d-4dc8-8015-ae64ccd5144f",
   "metadata": {},
   "outputs": [],
   "source": [
    "def resize_imgs(set_name, img_size=(100,100)):\n",
    "    \"\"\"\n",
    "    Resize\n",
    "    \"\"\"\n",
    "    set_new = []\n",
    "    for img in set_name:\n",
    "        img = cv2.resize(\n",
    "            img,\n",
    "            dsize=img_size,\n",
    "            interpolation=cv2.INTER_CUBIC\n",
    "        )\n",
    "        set_new.append(img)\n",
    "    return np.array(set_new)"
   ]
  },
  {
   "cell_type": "code",
   "execution_count": 9,
   "id": "50f8842d-eeb7-455a-ba73-b35691bb7b6f",
   "metadata": {},
   "outputs": [],
   "source": [
    "X = resize_imgs(X, (224,224))"
   ]
  },
  {
   "cell_type": "markdown",
   "id": "c2661d73-11c8-468a-8f0d-7f395e834be1",
   "metadata": {},
   "source": [
    "### Show some images\n",
    "\n",
    "Let's look at some examples of the images."
   ]
  },
  {
   "cell_type": "code",
   "execution_count": 10,
   "id": "e909f2ab-8ec7-4bc3-8880-efcedab30412",
   "metadata": {},
   "outputs": [],
   "source": [
    "def plot_image(img):\n",
    "    fig, ax = plt.subplots(figsize=(3,3))\n",
    "    ax.imshow(img, cmap='binary')\n",
    "    ax.set_axis_off()\n",
    "    plt.show()    "
   ]
  },
  {
   "cell_type": "code",
   "execution_count": 11,
   "id": "2309da1b-a0ba-4710-aea6-58f4aef87c2d",
   "metadata": {},
   "outputs": [
    {
     "data": {
      "image/png": "[encoded data removed]",
      "text/plain": [
       "<Figure size 216x216 with 1 Axes>"
      ]
     },
     "metadata": {
      "needs_background": "light"
     },
     "output_type": "display_data"
    }
   ],
   "source": [
    "# Show tumour (first image)\n",
    "plot_image(X[0])"
   ]
  },
  {
   "cell_type": "code",
   "execution_count": 12,
   "id": "632f69af-e2f8-43e8-9cb4-7204bb598ff8",
   "metadata": {},
   "outputs": [
    {
     "data": {
      "image/png": "[encoded data removed]",
      "text/plain": [
       "<Figure size 216x216 with 1 Axes>"
      ]
     },
     "metadata": {
      "needs_background": "light"
     },
     "output_type": "display_data"
    }
   ],
   "source": [
    "# Show no tumour (last image)\n",
    "plot_image(X[-1])"
   ]
  },
  {
   "cell_type": "markdown",
   "id": "eee5988b-16e4-4705-9b51-c5dcccdb7dc3",
   "metadata": {},
   "source": [
    "### Split into training and test\n",
    "\n",
    "In a machine learning problem, we separate the data into training and test data. We use the training data to show the model images and the labels associated with them. We then use the test data to show the model images and let it make its own predictions for labels for those images, which allows us to assess how well the model performs on unseen data.\n",
    "\n",
    "We will split the data into 75% training data and 25% test data."
   ]
  },
  {
   "cell_type": "code",
   "execution_count": 13,
   "id": "7fa19eb1-f530-4c84-b846-6b9ceff7614d",
   "metadata": {},
   "outputs": [],
   "source": [
    "# Turn y into a binary label\n",
    "y = np.array([1 if label == \"yes\" else 0 for label in y])\n",
    "\n",
    "# Reshape X to have 1 channel\n",
    "X = X.reshape(X.shape[0], IMG_SIZE[0], IMG_SIZE[1], 1)\n",
    "\n",
    "# Split\n",
    "X_train, X_test, y_train, y_test = train_test_split(X, y, test_size = 0.25)"
   ]
  },
  {
   "cell_type": "markdown",
   "id": "da2a4074-95ec-4757-80bc-b2a2f68b3eb2",
   "metadata": {},
   "source": [
    "Now let's build the model structure. We will use layers provided by Keras to create a convolutional neural network."
   ]
  },
  {
   "cell_type": "code",
   "execution_count": 117,
   "id": "7eca902d-19fa-4357-924a-200e4c815b3e",
   "metadata": {},
   "outputs": [],
   "source": [
    "model = Sequential()\n",
    "model.add(Conv2D(32, (3, 3), input_shape=(224,224,1)))\n",
    "model.add(Activation(\"relu\"))\n",
    "model.add(MaxPooling2D(pool_size=(2, 2)))\n",
    "\n",
    "model.add(Conv2D(32, (3, 3)))\n",
    "model.add(Activation(\"relu\"))\n",
    "model.add(MaxPooling2D(pool_size=(2, 2)))\n",
    "\n",
    "model.add(Conv2D(64, (3, 3)))\n",
    "model.add(Activation(\"relu\"))\n",
    "model.add(MaxPooling2D(pool_size=(2, 2)))\n",
    "\n",
    "model.add(Conv2D(64, (3, 3)))\n",
    "model.add(Activation(\"relu\"))\n",
    "model.add(MaxPooling2D(pool_size=(2, 2)))\n",
    "\n",
    "model.add(Flatten())  # this converts our 3D feature maps to 1D feature vectors\n",
    "model.add(Dense(64))\n",
    "model.add(Activation(\"relu\"))\n",
    "model.add(Dropout(0.5))\n",
    "model.add(Dense(1))\n",
    "model.add(Activation(\"sigmoid\"))\n",
    "\n",
    "model.compile(loss=\"binary_crossentropy\",\n",
    "              optimizer=\"adam\",\n",
    "              metrics=[\"accuracy\"])"
   ]
  },
  {
   "cell_type": "markdown",
   "id": "c3323523-1cc9-40c8-959b-972fb3fcb7fa",
   "metadata": {},
   "source": [
    "Let's look at a summary of the model:"
   ]
  },
  {
   "cell_type": "code",
   "execution_count": 118,
   "id": "7334f235-5fda-43de-8b6f-83f018f674d7",
   "metadata": {},
   "outputs": [
    {
     "name": "stdout",
     "output_type": "stream",
     "text": [
      "Model: \"sequential_12\"\n",
      "_________________________________________________________________\n",
      " Layer (type)                Output Shape              Param #   \n",
      "=================================================================\n",
      " conv2d_42 (Conv2D)          (None, 222, 222, 32)      320       \n",
      "                                                                 \n",
      " activation_67 (Activation)  (None, 222, 222, 32)      0         \n",
      "                                                                 \n",
      " max_pooling2d_42 (MaxPoolin  (None, 111, 111, 32)     0         \n",
      " g2D)                                                            \n",
      "                                                                 \n",
      " conv2d_43 (Conv2D)          (None, 109, 109, 32)      9248      \n",
      "                                                                 \n",
      " activation_68 (Activation)  (None, 109, 109, 32)      0         \n",
      "                                                                 \n",
      " max_pooling2d_43 (MaxPoolin  (None, 54, 54, 32)       0         \n",
      " g2D)                                                            \n",
      "                                                                 \n",
      " conv2d_44 (Conv2D)          (None, 52, 52, 64)        18496     \n",
      "                                                                 \n",
      " activation_69 (Activation)  (None, 52, 52, 64)        0         \n",
      "                                                                 \n",
      " max_pooling2d_44 (MaxPoolin  (None, 26, 26, 64)       0         \n",
      " g2D)                                                            \n",
      "                                                                 \n",
      " conv2d_45 (Conv2D)          (None, 24, 24, 64)        36928     \n",
      "                                                                 \n",
      " activation_70 (Activation)  (None, 24, 24, 64)        0         \n",
      "                                                                 \n",
      " max_pooling2d_45 (MaxPoolin  (None, 12, 12, 64)       0         \n",
      " g2D)                                                            \n",
      "                                                                 \n",
      " flatten_12 (Flatten)        (None, 9216)              0         \n",
      "                                                                 \n",
      " dense_25 (Dense)            (None, 64)                589888    \n",
      "                                                                 \n",
      " activation_71 (Activation)  (None, 64)                0         \n",
      "                                                                 \n",
      " dropout_19 (Dropout)        (None, 64)                0         \n",
      "                                                                 \n",
      " dense_26 (Dense)            (None, 1)                 65        \n",
      "                                                                 \n",
      " activation_72 (Activation)  (None, 1)                 0         \n",
      "                                                                 \n",
      "=================================================================\n",
      "Total params: 654,945\n",
      "Trainable params: 654,945\n",
      "Non-trainable params: 0\n",
      "_________________________________________________________________\n"
     ]
    }
   ],
   "source": [
    "model.summary()"
   ]
  },
  {
   "cell_type": "markdown",
   "id": "910ab167-faea-4589-9562-ecf0ad52e374",
   "metadata": {},
   "source": [
    "### Train model\n",
    "\n",
    "Now we will train the model. \n",
    "\n",
    "We set the number of epochs to 250, which means that the data will pass through the model a maximum of 250 times.\n",
    "\n",
    "We set the batch size to 8, which means that 8 images will pass through the model in one go.\n",
    "\n",
    "We add \"early stopping\", so that if the model isn't improving after a certain amount of time (in this case, 50 epochs), then the model will stop training. This helps to prevent the model overfitting to the training data."
   ]
  },
  {
   "cell_type": "code",
   "execution_count": 119,
   "id": "8d2d3f2c-c42b-474a-b889-60ce75d25f75",
   "metadata": {},
   "outputs": [
    {
     "name": "stdout",
     "output_type": "stream",
     "text": [
      "Epoch 1/250\n",
      "24/24 [==============================] - 3s 91ms/step - loss: 3.5356 - accuracy: 0.5185 - val_loss: 0.6492 - val_accuracy: 0.7656\n",
      "Epoch 2/250\n",
      "24/24 [==============================] - 2s 87ms/step - loss: 0.6810 - accuracy: 0.6296 - val_loss: 0.5979 - val_accuracy: 0.7656\n",
      "Epoch 3/250\n",
      "24/24 [==============================] - 2s 87ms/step - loss: 0.6598 - accuracy: 0.6190 - val_loss: 0.6286 - val_accuracy: 0.7344\n",
      "Epoch 4/250\n",
      "24/24 [==============================] - 2s 87ms/step - loss: 0.6169 - accuracy: 0.6931 - val_loss: 0.5151 - val_accuracy: 0.7656\n",
      "Epoch 5/250\n",
      "24/24 [==============================] - 2s 86ms/step - loss: 0.5302 - accuracy: 0.7619 - val_loss: 0.4723 - val_accuracy: 0.7344\n",
      "Epoch 6/250\n",
      "24/24 [==============================] - 2s 87ms/step - loss: 0.4953 - accuracy: 0.7725 - val_loss: 0.4978 - val_accuracy: 0.6875\n",
      "Epoch 7/250\n",
      "24/24 [==============================] - 2s 87ms/step - loss: 0.4403 - accuracy: 0.8254 - val_loss: 0.4585 - val_accuracy: 0.7656\n",
      "Epoch 8/250\n",
      "24/24 [==============================] - 2s 86ms/step - loss: 0.4086 - accuracy: 0.8042 - val_loss: 0.7577 - val_accuracy: 0.7031\n",
      "Epoch 9/250\n",
      "24/24 [==============================] - 2s 86ms/step - loss: 0.5181 - accuracy: 0.7778 - val_loss: 0.4774 - val_accuracy: 0.7969\n",
      "Epoch 10/250\n",
      "24/24 [==============================] - 2s 87ms/step - loss: 0.3525 - accuracy: 0.8466 - val_loss: 0.7698 - val_accuracy: 0.6875\n",
      "Epoch 11/250\n",
      "24/24 [==============================] - 2s 87ms/step - loss: 0.2697 - accuracy: 0.8942 - val_loss: 0.5791 - val_accuracy: 0.7188\n",
      "Epoch 12/250\n",
      "24/24 [==============================] - 2s 87ms/step - loss: 0.2026 - accuracy: 0.9101 - val_loss: 0.4255 - val_accuracy: 0.8281\n",
      "Epoch 13/250\n",
      "24/24 [==============================] - 2s 87ms/step - loss: 0.1657 - accuracy: 0.9524 - val_loss: 0.5004 - val_accuracy: 0.8281\n",
      "Epoch 14/250\n",
      "24/24 [==============================] - 2s 86ms/step - loss: 0.1610 - accuracy: 0.9312 - val_loss: 0.4521 - val_accuracy: 0.8438\n",
      "Epoch 15/250\n",
      "24/24 [==============================] - 2s 88ms/step - loss: 0.2225 - accuracy: 0.9206 - val_loss: 0.4413 - val_accuracy: 0.8281\n",
      "Epoch 16/250\n",
      "24/24 [==============================] - 2s 87ms/step - loss: 0.0789 - accuracy: 0.9735 - val_loss: 0.8627 - val_accuracy: 0.7812\n",
      "Epoch 17/250\n",
      "24/24 [==============================] - 2s 87ms/step - loss: 0.0548 - accuracy: 0.9894 - val_loss: 0.6542 - val_accuracy: 0.8594\n",
      "Epoch 18/250\n",
      "24/24 [==============================] - 2s 86ms/step - loss: 0.0538 - accuracy: 0.9788 - val_loss: 0.8833 - val_accuracy: 0.8125\n",
      "Epoch 19/250\n",
      "24/24 [==============================] - 2s 86ms/step - loss: 0.0718 - accuracy: 0.9735 - val_loss: 0.5969 - val_accuracy: 0.8281\n",
      "Epoch 20/250\n",
      "24/24 [==============================] - 2s 87ms/step - loss: 0.0517 - accuracy: 0.9788 - val_loss: 0.6711 - val_accuracy: 0.8594\n",
      "Epoch 21/250\n",
      "24/24 [==============================] - 2s 86ms/step - loss: 0.0221 - accuracy: 1.0000 - val_loss: 1.0140 - val_accuracy: 0.8125\n",
      "Epoch 22/250\n",
      "24/24 [==============================] - 2s 87ms/step - loss: 0.0479 - accuracy: 0.9841 - val_loss: 0.6563 - val_accuracy: 0.8438\n",
      "Epoch 23/250\n",
      "24/24 [==============================] - 2s 87ms/step - loss: 0.0692 - accuracy: 0.9630 - val_loss: 0.6563 - val_accuracy: 0.8281\n",
      "Epoch 24/250\n",
      "24/24 [==============================] - 2s 87ms/step - loss: 0.0336 - accuracy: 0.9894 - val_loss: 0.6616 - val_accuracy: 0.8906\n",
      "Epoch 25/250\n",
      "24/24 [==============================] - 2s 88ms/step - loss: 0.0118 - accuracy: 1.0000 - val_loss: 0.7129 - val_accuracy: 0.8594\n",
      "Epoch 26/250\n",
      "24/24 [==============================] - 2s 87ms/step - loss: 0.0254 - accuracy: 0.9894 - val_loss: 0.6760 - val_accuracy: 0.8281\n",
      "Epoch 27/250\n",
      "24/24 [==============================] - 2s 87ms/step - loss: 0.0161 - accuracy: 1.0000 - val_loss: 0.9826 - val_accuracy: 0.8125\n",
      "Epoch 28/250\n",
      "24/24 [==============================] - 2s 86ms/step - loss: 0.0040 - accuracy: 1.0000 - val_loss: 0.9273 - val_accuracy: 0.8281\n",
      "Epoch 29/250\n",
      "24/24 [==============================] - 2s 86ms/step - loss: 0.0331 - accuracy: 0.9947 - val_loss: 0.8554 - val_accuracy: 0.7969\n",
      "Epoch 30/250\n",
      "24/24 [==============================] - 2s 86ms/step - loss: 0.0168 - accuracy: 0.9947 - val_loss: 0.6499 - val_accuracy: 0.8438\n",
      "Epoch 31/250\n",
      "24/24 [==============================] - 2s 87ms/step - loss: 0.1501 - accuracy: 0.9788 - val_loss: 1.0995 - val_accuracy: 0.7344\n",
      "Epoch 32/250\n",
      "24/24 [==============================] - 2s 87ms/step - loss: 0.1779 - accuracy: 0.9206 - val_loss: 0.5370 - val_accuracy: 0.7031\n",
      "Epoch 33/250\n",
      "24/24 [==============================] - 2s 86ms/step - loss: 0.0677 - accuracy: 0.9735 - val_loss: 0.5731 - val_accuracy: 0.8594\n",
      "Epoch 34/250\n",
      "24/24 [==============================] - 2s 87ms/step - loss: 0.0744 - accuracy: 0.9735 - val_loss: 1.2983 - val_accuracy: 0.7656\n",
      "Epoch 35/250\n",
      "24/24 [==============================] - 2s 87ms/step - loss: 0.0611 - accuracy: 0.9788 - val_loss: 1.0281 - val_accuracy: 0.8125\n",
      "Epoch 36/250\n",
      "24/24 [==============================] - 2s 87ms/step - loss: 0.0793 - accuracy: 0.9841 - val_loss: 1.5036 - val_accuracy: 0.7188\n",
      "Epoch 37/250\n",
      "24/24 [==============================] - 2s 86ms/step - loss: 0.1806 - accuracy: 0.9365 - val_loss: 0.8685 - val_accuracy: 0.7656\n",
      "Epoch 38/250\n",
      "24/24 [==============================] - 2s 86ms/step - loss: 0.0457 - accuracy: 0.9841 - val_loss: 1.4243 - val_accuracy: 0.7656\n",
      "Epoch 39/250\n",
      "24/24 [==============================] - 2s 86ms/step - loss: 0.0191 - accuracy: 0.9894 - val_loss: 1.9368 - val_accuracy: 0.7500\n",
      "Epoch 40/250\n",
      "24/24 [==============================] - 2s 87ms/step - loss: 0.0738 - accuracy: 0.9841 - val_loss: 1.0403 - val_accuracy: 0.7656\n",
      "Epoch 41/250\n",
      "24/24 [==============================] - 2s 87ms/step - loss: 0.0473 - accuracy: 0.9894 - val_loss: 1.0472 - val_accuracy: 0.7500\n",
      "Epoch 42/250\n",
      "24/24 [==============================] - 2s 87ms/step - loss: 0.0366 - accuracy: 0.9841 - val_loss: 1.0946 - val_accuracy: 0.7656\n",
      "Epoch 43/250\n",
      "24/24 [==============================] - 2s 86ms/step - loss: 0.0381 - accuracy: 0.9841 - val_loss: 0.9231 - val_accuracy: 0.8281\n",
      "Epoch 44/250\n",
      "24/24 [==============================] - 2s 87ms/step - loss: 0.0759 - accuracy: 0.9788 - val_loss: 0.8398 - val_accuracy: 0.7500\n",
      "Epoch 45/250\n",
      "24/24 [==============================] - 2s 87ms/step - loss: 0.0672 - accuracy: 0.9735 - val_loss: 1.7604 - val_accuracy: 0.8281\n",
      "Epoch 46/250\n",
      "24/24 [==============================] - 2s 87ms/step - loss: 0.0547 - accuracy: 0.9841 - val_loss: 0.9925 - val_accuracy: 0.7969\n",
      "Epoch 47/250\n",
      "24/24 [==============================] - 2s 87ms/step - loss: 0.0312 - accuracy: 0.9841 - val_loss: 1.7072 - val_accuracy: 0.7969\n",
      "Epoch 48/250\n",
      "24/24 [==============================] - 2s 88ms/step - loss: 0.0268 - accuracy: 0.9894 - val_loss: 1.0785 - val_accuracy: 0.7969\n",
      "Epoch 49/250\n",
      "24/24 [==============================] - 2s 88ms/step - loss: 0.0145 - accuracy: 0.9894 - val_loss: 1.2907 - val_accuracy: 0.7812\n",
      "Epoch 50/250\n",
      "24/24 [==============================] - 2s 87ms/step - loss: 0.0016 - accuracy: 1.0000 - val_loss: 1.3734 - val_accuracy: 0.7812\n",
      "Epoch 51/250\n",
      "24/24 [==============================] - 2s 87ms/step - loss: 0.0024 - accuracy: 1.0000 - val_loss: 1.4641 - val_accuracy: 0.7812\n",
      "Epoch 52/250\n",
      "24/24 [==============================] - 2s 87ms/step - loss: 0.0057 - accuracy: 1.0000 - val_loss: 1.5640 - val_accuracy: 0.7969\n",
      "Epoch 53/250\n",
      "24/24 [==============================] - 2s 86ms/step - loss: 0.0019 - accuracy: 1.0000 - val_loss: 2.0343 - val_accuracy: 0.8125\n",
      "Epoch 54/250\n",
      "24/24 [==============================] - 2s 87ms/step - loss: 0.0522 - accuracy: 0.9894 - val_loss: 1.4214 - val_accuracy: 0.8125\n",
      "Epoch 55/250\n",
      "24/24 [==============================] - 2s 86ms/step - loss: 0.0201 - accuracy: 0.9894 - val_loss: 1.6041 - val_accuracy: 0.7812\n",
      "Epoch 56/250\n",
      "24/24 [==============================] - 2s 86ms/step - loss: 0.0393 - accuracy: 0.9841 - val_loss: 1.1611 - val_accuracy: 0.7656\n",
      "Epoch 57/250\n",
      "24/24 [==============================] - 2s 87ms/step - loss: 0.0971 - accuracy: 0.9630 - val_loss: 1.3468 - val_accuracy: 0.7656\n",
      "Epoch 58/250\n",
      "24/24 [==============================] - 2s 87ms/step - loss: 0.0303 - accuracy: 0.9841 - val_loss: 1.2351 - val_accuracy: 0.7969\n",
      "Epoch 59/250\n",
      "24/24 [==============================] - 2s 87ms/step - loss: 0.0071 - accuracy: 1.0000 - val_loss: 1.2987 - val_accuracy: 0.7969\n",
      "Epoch 60/250\n",
      "24/24 [==============================] - 2s 87ms/step - loss: 0.0044 - accuracy: 1.0000 - val_loss: 1.3805 - val_accuracy: 0.8281\n",
      "Epoch 61/250\n",
      "24/24 [==============================] - 2s 87ms/step - loss: 0.0052 - accuracy: 1.0000 - val_loss: 1.5532 - val_accuracy: 0.8281\n",
      "Epoch 62/250\n",
      "24/24 [==============================] - 2s 86ms/step - loss: 0.0011 - accuracy: 1.0000 - val_loss: 1.4218 - val_accuracy: 0.7969\n"
     ]
    }
   ],
   "source": [
    "early_stopping_cb = tf.keras.callbacks.EarlyStopping(patience=50,\n",
    "                                                     restore_best_weights=True)\n",
    "\n",
    "history = model.fit(X_train,\n",
    "                    y_train,\n",
    "                    epochs=250,\n",
    "                    batch_size=8,\n",
    "                    validation_data=(X_test, y_test),\n",
    "                    callbacks=[early_stopping_cb],\n",
    "                    verbose=1)"
   ]
  },
  {
   "cell_type": "markdown",
   "id": "90b1e5bf-ba52-48dc-b5ae-9cec23ce9032",
   "metadata": {},
   "source": [
    "Let's plot the model's performance over time:"
   ]
  },
  {
   "cell_type": "code",
   "execution_count": 120,
   "id": "e9b8c0aa-36ce-4d37-aa4b-0e4ca584fd5c",
   "metadata": {},
   "outputs": [
    {
     "data": {
      "image/png": "[encoded data removed]",
      "text/plain": [
       "<Figure size 432x288 with 1 Axes>"
      ]
     },
     "metadata": {
      "needs_background": "light"
     },
     "output_type": "display_data"
    }
   ],
   "source": [
    "history_dict = history.history\n",
    "\n",
    "acc_values = history_dict[\"accuracy\"]\n",
    "val_acc_values = history_dict[\"val_accuracy\"]\n",
    "epochs = range(1, len(acc_values) + 1)\n",
    "\n",
    "plt.plot(epochs, acc_values, \"bo\", label=\"Training acc\")\n",
    "plt.plot(epochs, val_acc_values, \"b\", label=\"Test accuracy\")\n",
    "plt.title(\"Training and validation accuracy\")\n",
    "plt.xlabel(\"Epochs\")\n",
    "plt.ylabel(\"Accuracy\")\n",
    "plt.legend()\n",
    "\n",
    "plt.show()"
   ]
  },
  {
   "cell_type": "markdown",
   "id": "26b5a0f6-b661-47ff-80c7-c34ad456a863",
   "metadata": {},
   "source": [
    "We can see that the model"
   ]
  },
  {
   "cell_type": "code",
   "execution_count": 121,
   "id": "39e72f3d-ab66-46df-a293-fc719e2a82f2",
   "metadata": {},
   "outputs": [
    {
     "name": "stdout",
     "output_type": "stream",
     "text": [
      "2/2 [==============================] - 0s 60ms/step\n"
     ]
    }
   ],
   "source": [
    "probability = model.predict(X_test)\n",
    "y_pred_test = probability >= 0.5\n",
    "y_pred_test = y_pred_test.flatten()\n",
    "accuracy_test = np.mean(y_pred_test == y_test)"
   ]
  },
  {
   "cell_type": "code",
   "execution_count": 122,
   "id": "47a707dd-1370-4661-a826-48010767869f",
   "metadata": {},
   "outputs": [
    {
     "data": {
      "text/plain": [
       "0.828125"
      ]
     },
     "execution_count": 122,
     "metadata": {},
     "output_type": "execute_result"
    }
   ],
   "source": [
    "accuracy_test"
   ]
  },
  {
   "cell_type": "markdown",
   "id": "07198784-9e16-4b86-86c8-663644f0ab79",
   "metadata": {},
   "source": [
    "### Show an example of a missed tumour"
   ]
  },
  {
   "cell_type": "code",
   "execution_count": 123,
   "id": "6089920f-8c82-4fa5-822a-6f75f8ae1335",
   "metadata": {},
   "outputs": [],
   "source": [
    "# Get missed tumours\n",
    "missed = (y_pred_test == 0) & (y_test == 1)"
   ]
  },
  {
   "cell_type": "code",
   "execution_count": 124,
   "id": "6f5f9764-9328-4423-90bf-eca0b4d9eb43",
   "metadata": {},
   "outputs": [
    {
     "data": {
      "text/plain": [
       "[19, 27, 34, 50, 52]"
      ]
     },
     "execution_count": 124,
     "metadata": {},
     "output_type": "execute_result"
    }
   ],
   "source": [
    "missed_index = [i for i in range(len(missed)) if missed[i]]\n",
    "missed_index"
   ]
  },
  {
   "cell_type": "code",
   "execution_count": 125,
   "id": "2a72b7c3-58e3-4601-9401-f525bfba642a",
   "metadata": {},
   "outputs": [],
   "source": [
    "example = X_test[missed_index[0]]\n",
    "example = example.reshape(example.shape[0], example.shape[1])"
   ]
  },
  {
   "cell_type": "code",
   "execution_count": 126,
   "id": "25b62011-1a0f-47c1-81f8-e508c1ff2524",
   "metadata": {},
   "outputs": [
    {
     "data": {
      "image/png": "[encoded data removed]",
      "text/plain": [
       "<Figure size 216x216 with 1 Axes>"
      ]
     },
     "metadata": {
      "needs_background": "light"
     },
     "output_type": "display_data"
    }
   ],
   "source": [
    "plot_image(example)"
   ]
  },
  {
   "cell_type": "markdown",
   "id": "20b48270-1577-4b7c-a2d1-dfc4172f5d21",
   "metadata": {},
   "source": [
    "### How could we make the model better?\n",
    "\n",
    "There are many things we could try, including:\n",
    "* Different preprocessing\n",
    "* Different model parameters\n",
    "* Acquiring more data\n",
    "* Data augmentation (artificially increasing the size of the existing dataset, e.g. by flipping and rotating the images)"
   ]
  },
  {
   "cell_type": "code",
   "execution_count": null,
   "id": "f3a54770-6782-4e7e-b428-057b59ae641c",
   "metadata": {},
   "outputs": [],
   "source": []
  }
 ],
 "metadata": {
  "kernelspec": {
   "display_name": "Python 3 (ipykernel)",
   "language": "python",
   "name": "python3"
  },
  "language_info": {
   "codemirror_mode": {
    "name": "ipython",
    "version": 3
   },
   "file_extension": ".py",
   "mimetype": "text/x-python",
   "name": "python",
   "nbconvert_exporter": "python",
   "pygments_lexer": "ipython3",
   "version": "3.10.6"
  }
 },
 "nbformat": 4,
 "nbformat_minor": 5
}
