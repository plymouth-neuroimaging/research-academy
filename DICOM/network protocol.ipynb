{
 "cells": [
  {
   "cell_type": "markdown",
   "id": "signal-submission",
   "metadata": {},
   "source": [
    "# DICOM network protocol\n",
    "\n",
    "*Mark Thurston <mark.thurston@nhs.net>*"
   ]
  },
  {
   "cell_type": "markdown",
   "id": "guided-canon",
   "metadata": {},
   "source": [
    "## Definitions\n",
    "\n",
    "### DICOM\n",
    "\n",
    "*Digital Imaging and Communications in Medicine (DICOM)* is an internationally agreed standard for the communication and management of medical imaging information and related data. This is a bit of a mouthful but, in simple terms, before DICOM, scanners of different brands were often not able to talk to each other or read files writen by other vendors' equipment.\n",
    "\n",
    "DICOM, at least in theory, means we can use readily available software to download image data from other sources, whatever the brand of the system at the other end.\n",
    "\n",
    "Unfortunately, due to the heterogeneity of the healthcare environment, the burden of supporting a huge range of legacy medical equipment, and some historical mistakes, the DICOM standard is incredibly complicated and different interpretations of the standard are common. Fortunately, you don't need to understand all of DICOM to be able to use parts of it effectively.\n",
    "\n",
    "The aim of this high level guide is to introduce the user with some knowlege of networking, Linux, and Python but new to DICOM.\n",
    "\n",
    "### Protocol\n",
    "\n",
    "A *network protocol* defines how two computers (in this case, medical devices) communicate with each other in order to achieve specific tasks. The DICOM network protocol is a separate entity to the DICOM file type: this point can result in confusion for new users. The DICOM file format is separate and defines how medical imaging studies are stored on disk.\n",
    "\n",
    "### PACS\n",
    "\n",
    "A *picture archiving and communication system (PACS)* is the system medical healthcare professionals use to store and review medical images (including MRI, CT, X-ray, photos, etc). The term encompasses the server (storage) and the client (viewing) softare. In slightly confusing DICOM terminology, server and client are referred to as *service class provider (SCP)* and *service class user (SCU)* respectively.\n",
    "\n",
    "## Client software\n",
    "\n",
    "There are multiple software libraries and tools that are compliant with the DICOM standard and are able to talk DICOM and handle DICOM files, both commercial and open source.\n",
    "\n",
    "These tools allow you to connect to another DICOM-compliant medical device (in our case, the PACS image archive) to perform a task:\n",
    "\n",
    "* [DCMTK](https://dcmtk.org/)\n",
    "* [GDCM](http://gdcm.sourceforge.net/wiki/index.php/Main_Page)\n",
    "* [pynetdicom](https://pydicom.github.io/pynetdicom/stable/)\n",
    "\n",
    "DCMTK and GDCM are freely available (including in the standard Debian/Ubuntu software repositories). DCMTK, developed by the German company OFFIS, is very mature. C/C++ libraries and command line DICOM applications (including Windows binaries) can be downloaded from the [OFFIS website](https://dcmtk.org/dcmtk.php.en). The man pages for DCMTK are well-written and extensive but many of the options are rarely used.\n",
    "\n",
    "DCMTK command line examples will be followed by longer *pynetdicom* equivalents. Pynetdicom available in the [pypi repository](https://pypi.org/project/pynetdicom/) and can be freely installed using pip (as we will see next)."
   ]
  },
  {
   "cell_type": "markdown",
   "id": "convenient-samba",
   "metadata": {},
   "source": [
    "## Installing the Python DICOM network library\n",
    "\n",
    "The Python package manager `pip` allows you to install an additional Python module for use later on. Pynetdicom should already be installed on this system but this is the command you need to run to use it on your own system:"
   ]
  },
  {
   "cell_type": "code",
   "execution_count": null,
   "id": "consecutive-month",
   "metadata": {},
   "outputs": [],
   "source": [
    "!python -m pip install pynetdicom"
   ]
  },
  {
   "cell_type": "markdown",
   "id": "greek-student",
   "metadata": {},
   "source": [
    "## Open access DICOM servers\n",
    "\n",
    "Although DICOM is a ratified standard, it's complexity makes it harder to understand and, perhaps, not as robust as other standards (C and HTTP). There are many different interpretations and certain features may not be implemented or are implemented differently. However, openly available DICOM servers are still useful for creating a lab environment (even if differences may become apparent when compared to commercial software).\n",
    "\n",
    "### Medical Connections\n",
    "\n",
    "Medical Connections is a Swansea-based software company created by the late radiologist and former DICOM committee member, Dr Dave Harvey (a pioneer in the development of DICOM). Medical Connections make available on the public internet a [DICOM server](https://www.dicomserver.co.uk/) that anyone can access for education and testing purposes.\n",
    "\n",
    "We will use *dicomserver.co.uk* in this notebook.\n",
    "\n",
    "### Orthanc \n",
    "\n",
    "[Orthanc](https://www.orthanc-server.com/) is an open source DICOM server developed by University Hospital of Liège, Belgium. It is under active development and packages are available in the standard Debian/Ubuntu repositories. It works well for a lab environment but requires additional set-up time.\n",
    "\n",
    "University Hospitals Plymouth run Orthanc as a secondary PACS, for storage of non-diagnostic X-ray images for teaching purposes."
   ]
  },
  {
   "cell_type": "markdown",
   "id": "coupled-international",
   "metadata": {},
   "source": [
    "## dicomserver.co.uk\n",
    "\n",
    "We are going to connect to the [Medical Connections DICOM server](https://www.dicomserver.co.uk).\n",
    "\n",
    "First, check your network connection with a ICMP ping request to confirm that you can reach the PACS server:"
   ]
  },
  {
   "cell_type": "code",
   "execution_count": 2,
   "id": "stupid-cooper",
   "metadata": {
    "scrolled": true
   },
   "outputs": [
    {
     "name": "stdout",
     "output_type": "stream",
     "text": [
      "Success\n"
     ]
    }
   ],
   "source": [
    "# connection settings from https://www.dicomserver.co.uk\n",
    "REMOTE_SERVER = 'www.dicomserver.co.uk'\n",
    "REMOTE_PORT = 11112\n",
    "\n",
    "!ping -c1 {REMOTE_SERVER} >/dev/null && echo Success || echo Failure"
   ]
  },
  {
   "cell_type": "markdown",
   "id": "wrapped-edinburgh",
   "metadata": {},
   "source": [
    "## C-ECHO request (dcmtk)\n",
    "\n",
    "The most basic DICOM network command is *C-ECHO*. Essentially, this is one device making DICOM contact with another device and asking for a response. For those familiar with networking, it has similarities to an ICMP ping request but, in modern DICOM devices, takes place higher up in the TCP/IP stack.\n",
    "\n",
    "If *C-ECHO* doesn't work, it is highly unlikely you will be able to get other DICOM commands to work, so it's best to try this first.\n",
    "\n",
    "Without the `--verbose` flag, there is no output (just a return value), so you need to test for this. More information available at `man echoscu`. "
   ]
  },
  {
   "cell_type": "code",
   "execution_count": null,
   "id": "approximate-brunswick",
   "metadata": {
    "scrolled": true
   },
   "outputs": [],
   "source": [
    "! echoscu {REMOTE_SERVER} {REMOTE_PORT} --verbose && echo Success || echo Failure"
   ]
  },
  {
   "cell_type": "markdown",
   "id": "developed-affect",
   "metadata": {},
   "source": [
    "## C-ECHO request (pynetdicom)\n",
    "\n",
    "The [pynetdicom documentation](https://pydicom.github.io/pynetdicom/stable/tutorials/create_scu.html#create-an-application-entity-and-associate) shows how to create a basic *C-ECHO* request:"
   ]
  },
  {
   "cell_type": "code",
   "execution_count": null,
   "id": "stylish-garage",
   "metadata": {},
   "outputs": [],
   "source": [
    "from pynetdicom import AE, debug_logger\n",
    "from pynetdicom.sop_class import VerificationSOPClass\n",
    "\n",
    "ae = AE()\n",
    "# https://www.dicomlibrary.com/dicom/sop/\n",
    "ae.add_requested_context(VerificationSOPClass)\n",
    "assoc = ae.associate(REMOTE_SERVER, REMOTE_PORT)\n",
    "\n",
    "if assoc.is_established:\n",
    "    print('Association established with Echo SCP')\n",
    "    assoc.release()\n",
    "else:\n",
    "    # Association rejected, aborted or never connected\n",
    "    print('Failed to associate')"
   ]
  },
  {
   "cell_type": "markdown",
   "id": "checked-rocket",
   "metadata": {},
   "source": [
    "## C-FIND request (dcmtk)\n",
    "\n",
    "*C-FIND* is used to search the DICOM server, e.g. for a patient, or for a study, or for a series within a study. Functionality could be compared to an SQL query or, for those familiar with web APIs, a HTTP GET request but the interface is quite a lot less sophisticated and, perhaps, less intuitive.\n",
    "\n",
    "As a side note, implementations are likely to use SQL behind the scenes. Some modern DICOM servers provide a [web API interface](https://en.wikipedia.org/wiki/DICOMweb) in addition to the DICOM interface.\n",
    "\n",
    "*C-FIND* is easiest to understand using DCMTK on the command line. This is probably the most basic *C-FIND* example, searching for all patients matching the name (*PatientName*) Joe Bloggs:"
   ]
  },
  {
   "cell_type": "code",
   "execution_count": null,
   "id": "german-collection",
   "metadata": {},
   "outputs": [],
   "source": [
    "! findscu {REMOTE_SERVER} {REMOTE_PORT} \\\n",
    "    --patient \\\n",
    "    --key PatientName='Bloggs^Joe' --key QueryRetrieveLevel='PATIENT' \\\n",
    "    --key PatientID # including an empty key will fetch the value in the output"
   ]
  },
  {
   "cell_type": "markdown",
   "id": "compliant-angola",
   "metadata": {},
   "source": [
    "### DICOM dictionary values\n",
    "\n",
    "A [full list](https://dicomlibrary.com/dicom/dicom-tags/) of DICOM tags and corresponding numbers (think *hash table keys*) is available for reference.\n",
    "\n",
    "You can use the equivalent numerical value for the tag in your search instead, so this code is equivalent:"
   ]
  },
  {
   "cell_type": "code",
   "execution_count": null,
   "id": "noticed-specific",
   "metadata": {},
   "outputs": [],
   "source": [
    "! findscu {REMOTE_SERVER} {REMOTE_PORT} \\\n",
    "    --patient \\\n",
    "    --key 10,10='Bloggs^Joe' --key 8,52='PATIENT' \\\n",
    "    --key 10,20 # (10,20) = PatientID"
   ]
  },
  {
   "cell_type": "markdown",
   "id": "prompt-alfred",
   "metadata": {},
   "source": [
    "## C-FIND request (pynetdicom)\n",
    "\n",
    "Performing a C-FIND query in Python requires more legwork:"
   ]
  },
  {
   "cell_type": "code",
   "execution_count": null,
   "id": "hundred-marathon",
   "metadata": {},
   "outputs": [],
   "source": [
    "from pynetdicom import AE\n",
    "from pynetdicom.sop_class import PatientRootQueryRetrieveInformationModelFind\n",
    "from pydicom.dataset import Dataset\n",
    "\n",
    "ae = AE()\n",
    "ae.add_requested_context(PatientRootQueryRetrieveInformationModelFind)\n",
    "\n",
    "ds = Dataset()\n",
    "ds.PatientName = 'BLOGGS^JOE'\n",
    "ds.QueryRetrieveLevel = 'PATIENT'\n",
    "ds.PatientID = ''\n",
    "\n",
    "# Associate with the peer AE at IP 127.0.0.1 and port 11112\n",
    "assoc = ae.associate(REMOTE_SERVER, REMOTE_PORT)\n",
    "if assoc.is_established:\n",
    "    # Send the C-FIND request\n",
    "    responses = assoc.send_c_find(ds, PatientRootQueryRetrieveInformationModelFind)\n",
    "    for (status, identifier) in responses:\n",
    "        if status:\n",
    "            print('C-FIND query status: 0x{0:04X}'.format(status.Status))\n",
    "            print(f'Reponse: {identifier}')\n",
    "        else:\n",
    "            print('Connection timed out, was aborted or received invalid response')\n",
    "    # Release the association\n",
    "    assoc.release()\n",
    "else:\n",
    "    print('Association rejected, aborted or never connected')"
   ]
  },
  {
   "cell_type": "markdown",
   "id": "toxic-syndrome",
   "metadata": {},
   "source": [
    "## Query-retrieve (dcmtk)\n",
    "\n",
    "This is the DICOM terminology for a finding an event and fetching the data associated with it (including pixel data). For research dataset acquisition, this is repeated for each study.\n",
    "\n",
    "Once you have found the patient, you need to find all the studies for that patient and select the one that you want (ideally by unique identifier).\n",
    "\n",
    "C-MOVE or C-GET can both be used for image download. C-MOVE is generally preferred because it is more flexible."
   ]
  },
  {
   "cell_type": "code",
   "execution_count": 27,
   "id": "supposed-suite",
   "metadata": {},
   "outputs": [],
   "source": [
    "# create temp dir, if not already there\n",
    "import os\n",
    "OUTPUT_DIR = os.path.join(os.path.expanduser('~'), 'tmp')\n",
    "! [ ! -d {OUTPUT_DIR} ] && mkdir {OUTPUT_DIR}\n",
    "\n",
    "# find the patient details, by name\n",
    "! findscu {REMOTE_SERVER} {REMOTE_PORT} \\\n",
    "    --patient \\\n",
    "    --key 8,52='PATIENT' --key 10,10='Bloggs^Joe' \\\n",
    "    --key 10,20 --output-directory {OUTPUT_DIR} --extract\n",
    "\n",
    "# all studies for the above patient that happened on 31/3/2020\n",
    "! findscu {REMOTE_SERVER} {REMOTE_PORT} \\\n",
    "    -O \\\n",
    "    --key QueryRetrieveLevel=STUDY \\\n",
    "    --key StudyInstanceUID --key StudyDate=20200331 \\\n",
    "    \"{OUTPUT_DIR}\"/*.dcm --output-directory {OUTPUT_DIR} --extract\n",
    "\n",
    "# download the study - using C-MOVE\n",
    "! movescu {REMOTE_SERVER} {REMOTE_PORT} \\\n",
    "    --port {REMOTE_PORT} --move MOVESCU --call MOVESCU \\\n",
    "    \"{OUTPUT_DIR}\"/*.dcm --output-directory {OUTPUT_DIR}"
   ]
  },
  {
   "cell_type": "markdown",
   "id": "tamil-annex",
   "metadata": {},
   "source": [
    "## Query-retrieve (pynetdicom)"
   ]
  },
  {
   "cell_type": "code",
   "execution_count": 14,
   "id": "modular-hunger",
   "metadata": {},
   "outputs": [
    {
     "name": "stdout",
     "output_type": "stream",
     "text": [
      "'DICOM network protocol.ipynb'\n"
     ]
    }
   ],
   "source": []
  },
  {
   "cell_type": "markdown",
   "id": "fitted-camera",
   "metadata": {},
   "source": [
    "## Display some of the retrieved image data"
   ]
  },
  {
   "cell_type": "code",
   "execution_count": 66,
   "id": "random-soundtrack",
   "metadata": {},
   "outputs": [
    {
     "data": {
      "image/png": "[encoded data removed]",
      "text/plain": [
       "<Figure size 432x288 with 1 Axes>"
      ]
     },
     "metadata": {
      "needs_background": "light"
     },
     "output_type": "display_data"
    }
   ],
   "source": [
    "import matplotlib.pyplot as plt\n",
    "import pydicom\n",
    "\n",
    "# https://github.com/pydicom/pydicom\n",
    "ds = pydicom.dcmread('/home/jupyter-mdt/tmp/SC.1.2.276.0.7230010.3.1.4.2730158737.138924.1612514284.371')\n",
    "_=plt.imshow(ds.pixel_array, cmap='bone')\n",
    "_=plt.axis('off')"
   ]
  },
  {
   "cell_type": "markdown",
   "id": "plastic-professional",
   "metadata": {},
   "source": [
    "# Resources\n",
    "\n",
    "## General resources\n",
    "* [DICOM wiki page](https://en.wikipedia.org/wiki/DICOM): Wikipedia page about the DICOM protocol\n",
    "* [Orthanc DICOM book](https://book.orthanc-server.com/index.html): excellent introduction to DICOM\n",
    "* [DICOM is easy](https://dicomiseasy.blogspot.com/): blog about the DICOM protocol (more advanced)\n",
    "\n",
    "\n",
    "## DICOM software documentation\n",
    "* [DCMTK](https://support.dcmtk.org/docs-354/index.html)\n",
    "* [GDCM](http://gdcm.sourceforge.net/wiki/index.php/Main_Page)\n",
    "* [pynetdicom](https://pydicom.github.io/pynetdicom/stable/user/index.html)"
   ]
  }
 ],
 "metadata": {
  "kernelspec": {
   "display_name": "Python 3",
   "language": "python",
   "name": "python3"
  },
  "language_info": {
   "codemirror_mode": {
    "name": "ipython",
    "version": 3
   },
   "file_extension": ".py",
   "mimetype": "text/x-python",
   "name": "python",
   "nbconvert_exporter": "python",
   "pygments_lexer": "ipython3",
   "version": "3.7.10"
  },
  "nteract": {
   "version": "nteract-on-jupyter@2.1.3"
  }
 },
 "nbformat": 4,
 "nbformat_minor": 5
}
